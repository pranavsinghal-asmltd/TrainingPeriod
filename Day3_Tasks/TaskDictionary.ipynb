{
 "cells": [
  {
   "cell_type": "code",
   "execution_count": 38,
   "id": "1efbfbdd-f803-4e66-863e-8574d6bb5f05",
   "metadata": {},
   "outputs": [],
   "source": [
    "'''\n",
    "machinery_data = {\n",
    "    \"machine_name\": \"Excavator\",       # string\n",
    "    \"id\": 101,                         # integer\n",
    "    \"weight_tons\": 21.5,               # float\n",
    "    \"parts\": [\"engine\", \"hydraulics\", \"tracks\",[4,5]],  # list of strings\n",
    "    \"maintenance_records\": [           # list of dicts\n",
    "        {\"date\": \"2025-01-15\", \"status\": \"oil_changed\"},\n",
    "        {\"date\": \"2025-04-10\", \"status\": \"hydraulic_fluid_checked\"}\n",
    "    ],\n",
    "    \"specs\": (                         # tuple with mixed values\n",
    "        \"Tier-4 Engine\", \n",
    "        {\"horsepower\": 210, \"fuel_type\": \"diesel\"}, \n",
    "        [500, 1000, 1500]              # rpm ranges\n",
    "    ),\n",
    "    \"performance\": {                   # nested dictionary\n",
    "        \"fuel_efficiency\": [6.5, 7.0, 7.2],  # liters/hour over tests\n",
    "        \"load_capacity\": (1.5, 2.0, 2.3),    # tons\n",
    "        \"peak_output\": {\"rpm\": 1800, \"torque_nm\": 1200}\n",
    "    }\n",
    "}\n",
    "'''\n",
    "machinery_data = {\n",
    "    \"machine_name\": \"Excavator\",   \n",
    "    \"id\": 101,                     \n",
    "    \"weight_tons\": 21.5,           \n",
    "\n",
    "    # Parts as list\n",
    "    \"parts\": [\"engine\", \"hydraulics\", \"tracks\"],\n",
    "\n",
    "    # Maintenance as list of tuples\n",
    "    \"maintenance_records\": [\n",
    "        (\"2025-01-15\", \"oil_changed\"),\n",
    "        (\"2025-04-10\", \"hydraulic_fluid_checked\")\n",
    "    ],\n",
    "\n",
    "    # Specs (tuple + list)\n",
    "    \"specs\": (\n",
    "        \"Tier-4 Engine\", \n",
    "        (210, \"diesel\"),          # horsepower, fuel_type tuple\n",
    "        [500, 1000, 1500]         # rpm ranges as list\n",
    "    ),\n",
    "\n",
    "    # Performance\n",
    "    \"fuel_efficiency\": [6.5, 7.0, 7.2],  # list\n",
    "    \"load_capacity\": (1.5, 2.0, 2.3),    # tuple\n",
    "    \"peak_output\": (1800, 1200)          # tuple (rpm, torque_nm)\n",
    "}"
   ]
  },
  {
   "cell_type": "code",
   "execution_count": 42,
   "id": "3098db59-3991-49c3-8aa1-7eb4b2709f22",
   "metadata": {},
   "outputs": [
    {
     "name": "stdout",
     "output_type": "stream",
     "text": [
      "Number of lists in the given data is :  4\n"
     ]
    }
   ],
   "source": [
    "# Count how many lists are there in this dict\n",
    "# Code should be dynamic\n",
    "'''\n",
    "def count_list(d):\n",
    "    count = 0\n",
    "    for v in d.values():\n",
    "        if isinstance(v, list):\n",
    "            count += 1\n",
    "            for item in v:\n",
    "                if isinstance(item, dict): \n",
    "                    count += count_list(item)\n",
    "        elif isinstance(v, tuple):\n",
    "            for item in v:\n",
    "                if isinstance(item, list):\n",
    "                    count += 1\n",
    "        elif isinstance(v, dict):\n",
    "            count += count_list(v)\n",
    "    return count\n",
    "\n",
    "print(\"Number of lists in the given data is : \",count_list(machinery_data))\n",
    "'''\n",
    "\n",
    "def count_list(d):\n",
    "    count  = 0\n",
    "    if isinstance(d, list):\n",
    "        count += 1\n",
    "        for item in d:\n",
    "            count += count_list(item)\n",
    "    elif isinstance(d, tuple):\n",
    "        for item in d:\n",
    "            count += count_list(item)\n",
    "    elif isinstance(d, dict):\n",
    "        for v in d.values():\n",
    "            count += count_list(v)\n",
    "    return count\n",
    "\n",
    "print(\"Number of lists in the given data is : \",count_list(machinery_data))"
   ]
  },
  {
   "cell_type": "code",
   "execution_count": 43,
   "id": "8d73462c-00aa-4369-9aff-b67eceaebd06",
   "metadata": {},
   "outputs": [
    {
     "name": "stdout",
     "output_type": "stream",
     "text": [
      "Number of Dictionaries in the given data is :  0\n"
     ]
    }
   ],
   "source": [
    "# Count how many Dicts are there in the given Dict\n",
    "'''\n",
    "def count_dict(d):\n",
    "    count = 0\n",
    "    if isinstance(d, dict):\n",
    "        count += 1\n",
    "        for v in d.values():\n",
    "            if isinstance(v, dict):\n",
    "                count += count_dict(v)\n",
    "            elif isinstance(v, (list, tuple)):\n",
    "                for item in v:\n",
    "                    count += count_dict(item)\n",
    "    return count\n",
    "'''\n",
    "\n",
    "def count_dict(d):\n",
    "    count  = 0\n",
    "    if isinstance(d, list):\n",
    "        for item in d:\n",
    "            count += count_dict(item)\n",
    "    elif isinstance(d, tuple):\n",
    "        for item in d:\n",
    "            count += count_dict(item)\n",
    "    elif isinstance(d, dict):\n",
    "        count += 1\n",
    "        for v in d.values():\n",
    "            count += count_dict(v)\n",
    "    return count\n",
    "    \n",
    "print(\"Number of Dictionaries in the given data is : \",(count_dict(machinery_data) - 1))"
   ]
  },
  {
   "cell_type": "code",
   "execution_count": 41,
   "id": "b4d7bf1d-b911-4bf6-bdce-7b683031c70a",
   "metadata": {},
   "outputs": [
    {
     "name": "stdout",
     "output_type": "stream",
     "text": [
      "Number of tuples in the given data is :  6\n"
     ]
    }
   ],
   "source": [
    "# Count how many tuples are there\n",
    "# Brain child\n",
    "\n",
    "def count_tuple(d):\n",
    "    count  = 0\n",
    "    if isinstance(d, tuple):\n",
    "        count += 1\n",
    "        for item in d:\n",
    "            count += count_tuple(item)\n",
    "    elif isinstance(d, list):\n",
    "        for item in d:\n",
    "            count += count_tuple(item)\n",
    "    elif isinstance(d, dict):\n",
    "        for v in d.values():\n",
    "            count += count_tuple(v)\n",
    "    return count\n",
    "\n",
    "print(\"Number of tuples in the given data is : \",(count_tuple(machinery_data)))"
   ]
  },
  {
   "cell_type": "code",
   "execution_count": null,
   "id": "53f63e91-adf3-4d7b-9a29-f57b628bbfdd",
   "metadata": {},
   "outputs": [],
   "source": []
  }
 ],
 "metadata": {
  "kernelspec": {
   "display_name": "Python 3 (ipykernel)",
   "language": "python",
   "name": "python3"
  },
  "language_info": {
   "codemirror_mode": {
    "name": "ipython",
    "version": 3
   },
   "file_extension": ".py",
   "mimetype": "text/x-python",
   "name": "python",
   "nbconvert_exporter": "python",
   "pygments_lexer": "ipython3",
   "version": "3.13.6"
  }
 },
 "nbformat": 4,
 "nbformat_minor": 5
}
