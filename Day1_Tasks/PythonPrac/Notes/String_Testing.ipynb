{
 "cells": [
  {
   "cell_type": "markdown",
   "id": "a38e6d93-8e1b-40e0-a452-dda5d75b7c22",
   "metadata": {},
   "source": [
    "# Strings testing"
   ]
  },
  {
   "cell_type": "code",
   "execution_count": 1,
   "id": "b33d9953-b9c5-4ec9-95cd-9d454754770a",
   "metadata": {},
   "outputs": [
    {
     "name": "stdout",
     "output_type": "stream",
     "text": [
      "It's alright\n",
      "He is called 'Johnny'\n",
      "He is called \"Johnny\"\n"
     ]
    }
   ],
   "source": [
    "print(\"It's alright\")\n",
    "print(\"He is called 'Johnny'\")\n",
    "print('He is called \"Johnny\"')"
   ]
  },
  {
   "cell_type": "markdown",
   "id": "5c136c59-a958-4159-b605-fde588bd01ca",
   "metadata": {},
   "source": [
    "For multiline value to be assigned to a variable, use the following syntaxes: "
   ]
  },
  {
   "cell_type": "code",
   "execution_count": 2,
   "id": "2e7307a9-1cbc-4a5b-8b68-1067ae38d8f9",
   "metadata": {},
   "outputs": [
    {
     "name": "stdout",
     "output_type": "stream",
     "text": [
      "Lorem ipsum dolor sit amet,\n",
      "consectetur adipiscing elit,\n",
      "sed do eiusmod tempor incididunt\n",
      "ut labore et dolore magna aliqua.\n"
     ]
    }
   ],
   "source": [
    "a = \"\"\"Lorem ipsum dolor sit amet,\n",
    "consectetur adipiscing elit,\n",
    "sed do eiusmod tempor incididunt\n",
    "ut labore et dolore magna aliqua.\"\"\"\n",
    "print(a)"
   ]
  },
  {
   "cell_type": "markdown",
   "id": "be0891b5-327f-47f1-8465-8bd18c397ac2",
   "metadata": {},
   "source": [
    "or"
   ]
  },
  {
   "cell_type": "code",
   "execution_count": 3,
   "id": "8b6fbf0c-51c5-4116-88a8-baf5cdb93b72",
   "metadata": {},
   "outputs": [
    {
     "name": "stdout",
     "output_type": "stream",
     "text": [
      "Lorem ipsum dolor sit amet,\n",
      "consectetur adipiscing elit,\n",
      "sed do eiusmod tempor incididunt\n",
      "ut labore et dolore magna aliqua.\n"
     ]
    }
   ],
   "source": [
    "a = '''Lorem ipsum dolor sit amet,\n",
    "consectetur adipiscing elit,\n",
    "sed do eiusmod tempor incididunt\n",
    "ut labore et dolore magna aliqua.'''\n",
    "print(a)"
   ]
  },
  {
   "cell_type": "code",
   "execution_count": 9,
   "id": "904b2aee-5865-4f7f-a66a-f6ab15ee0119",
   "metadata": {},
   "outputs": [
    {
     "name": "stdout",
     "output_type": "stream",
     "text": [
      "e 13 \n",
      "\n",
      "b\n",
      "a\n",
      "n\n",
      "a\n",
      "n\n",
      "a\n"
     ]
    }
   ],
   "source": [
    "a = \"Hello, World!\"\n",
    "print(a[1], len(a),'\\n')\n",
    "\n",
    "for x in \"banana\":\n",
    "  print(x)\n"
   ]
  },
  {
   "cell_type": "markdown",
   "id": "8bd5b0e0-cc48-46e3-b566-24e36eee744e",
   "metadata": {},
   "source": [
    "To see if a word exists in a string"
   ]
  },
  {
   "cell_type": "code",
   "execution_count": 11,
   "id": "88451580-c441-4693-b5ae-b1af1bec1c54",
   "metadata": {},
   "outputs": [
    {
     "name": "stdout",
     "output_type": "stream",
     "text": [
      "True\n",
      "True\n"
     ]
    }
   ],
   "source": [
    "txt = \"The best things in life are free!\"\n",
    "print(\"free\" in txt)\n",
    "\n",
    "txt = \"The best things in life are free!\"\n",
    "print(\"expensive\" not in txt)"
   ]
  },
  {
   "cell_type": "markdown",
   "id": "ffb8909c-ff76-439f-be88-359fc9491587",
   "metadata": {},
   "source": [
    "#### Slicing Strings"
   ]
  },
  {
   "cell_type": "code",
   "execution_count": 12,
   "id": "630f5c27-fa32-41fa-a7b7-3576a26e14d6",
   "metadata": {},
   "outputs": [
    {
     "name": "stdout",
     "output_type": "stream",
     "text": [
      "llo\n"
     ]
    }
   ],
   "source": [
    "b = \"Hello, World!\"\n",
    "print(b[2:5])"
   ]
  },
  {
   "cell_type": "code",
   "execution_count": 16,
   "id": "ec003aaf-ff29-429b-9149-629281ae9778",
   "metadata": {},
   "outputs": [
    {
     "name": "stdout",
     "output_type": "stream",
     "text": [
      "ello, W\n"
     ]
    }
   ],
   "source": [
    "b = \"Hello, World!\"\n",
    "print(b[1:-5])"
   ]
  },
  {
   "cell_type": "markdown",
   "id": "ecb4150d-dab9-4a73-b843-d8aa9a1dd71e",
   "metadata": {},
   "source": [
    "#### Modify strings"
   ]
  },
  {
   "cell_type": "code",
   "execution_count": 21,
   "id": "8fc8a8e4-758e-436e-b505-8ff9aea35cf3",
   "metadata": {},
   "outputs": [
    {
     "name": "stdout",
     "output_type": "stream",
     "text": [
      "HELLO, WORLD! \n",
      "hello, world! \n",
      "Hello, World!\n",
      "Jello, World! \n",
      "['Hello', ' World! ']\n"
     ]
    }
   ],
   "source": [
    "a = \"Hello, World! \"\n",
    "print(a.upper())\n",
    "print(a.lower())\n",
    "print(a.strip()) # returns \"Hello, World!\"\n",
    "print(a.replace(\"H\", \"J\"))\n",
    "print(a.split(\",\")) # returns ['Hello', ' World!']"
   ]
  },
  {
   "cell_type": "code",
   "execution_count": 24,
   "id": "39912dc1-61c7-4a93-8973-8df7788d54fa",
   "metadata": {},
   "outputs": [
    {
     "name": "stdout",
     "output_type": "stream",
     "text": [
      "My name is John, I am {age}\n",
      "My name is John, I am 36\n"
     ]
    }
   ],
   "source": [
    "age = 36\n",
    "txt = \"My name is John, I am {age}\"\n",
    "print(txt)\n",
    "txt = f\"My name is John, I am {age}\"\n",
    "print(txt)"
   ]
  },
  {
   "cell_type": "code",
   "execution_count": 29,
   "id": "b569b009-f0df-4252-8727-098eab7e5cb0",
   "metadata": {},
   "outputs": [
    {
     "name": "stdout",
     "output_type": "stream",
     "text": [
      "The price is 59.77 dollars\n",
      "The price is 1180 dollars\n",
      "The price is 59 dollars\n"
     ]
    }
   ],
   "source": [
    "price = 59.767\n",
    "txt = f\"The price is {price:.2f} dollars\"\n",
    "print(txt)\n",
    "txt = f\"The price is {20 * 59} dollars\"\n",
    "print(txt)\n",
    "txt = f\"The price is {int(price)} dollars\"\n",
    "print(txt)"
   ]
  }
 ],
 "metadata": {
  "kernelspec": {
   "display_name": "Python 3 (ipykernel)",
   "language": "python",
   "name": "python3"
  },
  "language_info": {
   "codemirror_mode": {
    "name": "ipython",
    "version": 3
   },
   "file_extension": ".py",
   "mimetype": "text/x-python",
   "name": "python",
   "nbconvert_exporter": "python",
   "pygments_lexer": "ipython3",
   "version": "3.13.6"
  }
 },
 "nbformat": 4,
 "nbformat_minor": 5
}
