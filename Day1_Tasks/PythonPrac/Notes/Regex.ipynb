{
 "cells": [
  {
   "cell_type": "markdown",
   "id": "e8250ecd-dcfb-4576-9dbe-55ba25bcd1f4",
   "metadata": {},
   "source": [
    "## Regex and its methods"
   ]
  },
  {
   "cell_type": "markdown",
   "id": "7068e5c1-4a80-4edf-a65b-9b406b847101",
   "metadata": {},
   "source": [
    "Regex (short for regular expression) is a way to search for patterns in strings.\n",
    "In Python, it’s handled by the re module."
   ]
  },
  {
   "cell_type": "code",
   "execution_count": 1,
   "id": "da4dc8e5-555c-4e1c-b0dd-77a3372033d2",
   "metadata": {},
   "outputs": [
    {
     "name": "stdout",
     "output_type": "stream",
     "text": [
      "['3']\n"
     ]
    }
   ],
   "source": [
    "import re\n",
    "pattern = r\"\\d+\"  # one or more digits\n",
    "text = \"I have 3 apples\"\n",
    "match = re.findall(pattern, text)\n",
    "print(match)  # ['3']"
   ]
  },
  {
   "cell_type": "markdown",
   "id": "a509e371-7382-422d-ad54-f2d7749b8c6e",
   "metadata": {},
   "source": [
    "2️⃣ Regex basics for matching data types\n",
    "\n",
    "When you hear “data types” in regex, it usually means:\n",
    "\n",
    "Integers\n",
    "\n",
    "Floats\n",
    "\n",
    "Strings (word/text patterns)\n",
    "\n",
    "Dates / times\n",
    "\n",
    "Booleans (True/False, yes/no)\n",
    "\n",
    "Emails / special formats\n",
    "\n",
    "Let’s look at the main patterns."
   ]
  },
  {
   "cell_type": "code",
   "execution_count": 3,
   "id": "6d0cc357-76a8-4088-8744-3a568223b859",
   "metadata": {},
   "outputs": [
    {
     "name": "stdout",
     "output_type": "stream",
     "text": [
      "<re.Match object; span=(0, 3), match='123'>\n",
      "<re.Match object; span=(0, 4), match='-456'>\n",
      "None\n"
     ]
    }
   ],
   "source": [
    "#Int pattern matching\n",
    "pattern = r\"^-?\\d+$\"\n",
    "# ^   → start of string\n",
    "# -?  → optional minus sign\n",
    "# \\d+ → one or more digits\n",
    "# $   → end of string\n",
    "\n",
    "print(re.fullmatch(pattern, \"123\"))   # Match\n",
    "print(re.fullmatch(pattern, \"-456\"))  # Match\n",
    "print(re.fullmatch(pattern, \"12.5\"))  # None"
   ]
  },
  {
   "cell_type": "code",
   "execution_count": 4,
   "id": "4bdaca63-3b66-4850-bb10-82fd660511d5",
   "metadata": {},
   "outputs": [
    {
     "name": "stdout",
     "output_type": "stream",
     "text": [
      "<re.Match object; span=(0, 4), match='3.14'>\n",
      "<re.Match object; span=(0, 4), match='-0.5'>\n",
      "None\n"
     ]
    }
   ],
   "source": [
    "#Float\n",
    "pattern = r\"^-?\\d*\\.\\d+$\"\n",
    "# \\d*  → zero or more digits before decimal\n",
    "# \\.   → decimal point (escaped)\n",
    "# \\d+  → one or more digits after decimal\n",
    "\n",
    "print(re.fullmatch(pattern, \"3.14\"))   # Match\n",
    "print(re.fullmatch(pattern, \"-0.5\"))   # Match\n",
    "print(re.fullmatch(pattern, \"10\"))     # None\n"
   ]
  },
  {
   "cell_type": "code",
   "execution_count": 5,
   "id": "c019d937-5421-48a4-8d4e-00c4e16565b8",
   "metadata": {},
   "outputs": [
    {
     "name": "stdout",
     "output_type": "stream",
     "text": [
      "<re.Match object; span=(0, 4), match='True'>\n",
      "None\n"
     ]
    }
   ],
   "source": [
    "#boolean\n",
    "pattern = r\"^(True|False)$\"\n",
    "# Matches exactly \"True\" or \"False\"\n",
    "\n",
    "print(re.fullmatch(pattern, \"True\"))   # Match\n",
    "print(re.fullmatch(pattern, \"true\"))   # None (case-sensitive)\n"
   ]
  },
  {
   "cell_type": "code",
   "execution_count": 6,
   "id": "fdb852d3-ebdd-4e60-8c10-ab8aeb6a36de",
   "metadata": {},
   "outputs": [
    {
     "name": "stdout",
     "output_type": "stream",
     "text": [
      "<re.Match object; span=(0, 10), match='2025-08-14'>\n",
      "None\n"
     ]
    }
   ],
   "source": [
    "#date\n",
    "pattern = r\"^\\d{4}-\\d{2}-\\d{2}$\"\n",
    "# \\d{4} → 4 digits (year)\n",
    "# -     → literal dash\n",
    "# \\d{2} → 2 digits (month, day)\n",
    "\n",
    "print(re.fullmatch(pattern, \"2025-08-14\"))  # Match\n",
    "print(re.fullmatch(pattern, \"14-08-2025\"))  # None\n"
   ]
  },
  {
   "cell_type": "code",
   "execution_count": 8,
   "id": "bcc2a8e5-e661-4e9a-a8bd-5b2089b49dc4",
   "metadata": {},
   "outputs": [
    {
     "name": "stdout",
     "output_type": "stream",
     "text": [
      "<re.Match object; span=(0, 16), match='user@example.com'>\n",
      "None\n"
     ]
    }
   ],
   "source": [
    "#email\n",
    "pattern = r\"^[\\w\\.-]+@[\\w\\.-]+\\.\\w+$\"\n",
    "# \\w     → letters, digits, underscore\n",
    "# \\. and - allowed before and after @\n",
    "# @      → literal at symbol\n",
    "# \\.\\w+  → dot followed by letters/digits\n",
    "\n",
    "print(re.fullmatch(pattern, \"user@example.com\"))  # Match\n",
    "print(re.fullmatch(pattern,\"User123@.com\"))"
   ]
  },
  {
   "cell_type": "code",
   "execution_count": null,
   "id": "92fd0933-cbbb-45c1-9fb8-289223112ab6",
   "metadata": {},
   "outputs": [],
   "source": []
  }
 ],
 "metadata": {
  "kernelspec": {
   "display_name": "Python 3 (ipykernel)",
   "language": "python",
   "name": "python3"
  },
  "language_info": {
   "codemirror_mode": {
    "name": "ipython",
    "version": 3
   },
   "file_extension": ".py",
   "mimetype": "text/x-python",
   "name": "python",
   "nbconvert_exporter": "python",
   "pygments_lexer": "ipython3",
   "version": "3.13.6"
  }
 },
 "nbformat": 4,
 "nbformat_minor": 5
}
